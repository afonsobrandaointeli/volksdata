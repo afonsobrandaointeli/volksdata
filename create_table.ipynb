{
 "cells": [
  {
   "cell_type": "markdown",
   "metadata": {},
   "source": [
    "# Criando a tabela VolksDataTable"
   ]
  },
  {
   "cell_type": "code",
   "execution_count": 9,
   "metadata": {},
   "outputs": [
    {
     "name": "stdout",
     "output_type": "stream",
     "text": [
      "Collecting psycopg2-binary\n",
      "  Downloading psycopg2_binary-2.9.9-cp310-cp310-manylinux_2_17_x86_64.manylinux2014_x86_64.whl.metadata (4.4 kB)\n",
      "Downloading psycopg2_binary-2.9.9-cp310-cp310-manylinux_2_17_x86_64.manylinux2014_x86_64.whl (3.0 MB)\n",
      "\u001b[2K   \u001b[90m━━━━━━━━━━━━━━━━━━━━━━━━━━━━━━━━━━━━━━━━\u001b[0m \u001b[32m3.0/3.0 MB\u001b[0m \u001b[31m2.5 MB/s\u001b[0m eta \u001b[36m0:00:00\u001b[0ma \u001b[36m0:00:01\u001b[0m\n",
      "\u001b[?25hInstalling collected packages: psycopg2-binary\n",
      "Successfully installed psycopg2-binary-2.9.9\n",
      "Requirement already satisfied: python-dotenv in /home/afonsolelis/.pyenv/versions/3.10.6/lib/python3.10/site-packages (1.0.0)\n"
     ]
    }
   ],
   "source": [
    "!pip install psycopg2-binary\n",
    "!pip install python-dotenv"
   ]
  },
  {
   "cell_type": "code",
   "execution_count": 13,
   "metadata": {},
   "outputs": [],
   "source": [
    "# imports\n",
    "import csv\n",
    "from dotenv import load_dotenv\n",
    "import os\n",
    "import psycopg2\n"
   ]
  },
  {
   "cell_type": "code",
   "execution_count": 14,
   "metadata": {},
   "outputs": [],
   "source": [
    "# Variables\n",
    "\n",
    "# Carregue as variáveis de ambiente do arquivo .env\n",
    "load_dotenv()\n",
    "\n",
    "# Obtenha os valores das variáveis de ambiente\n",
    "DATABASE_HOST = os.getenv(\"DATABASE_HOST\")\n",
    "DATABASE_USER = os.getenv(\"DATABASE_USER\")\n",
    "DATABASE_PASSWORD = os.getenv(\"DATABASE_PASSWORD\")\n",
    "DATABASE_NAME = os.getenv(\"DATABASE_NAME\")\n",
    "\n",
    "# Defina os parâmetros de conexão com o banco de dados\n",
    "db_params = {\n",
    "    'host': DATABASE_HOST,\n",
    "    'user': DATABASE_USER,\n",
    "    'password': DATABASE_PASSWORD,\n",
    "    'dbname': DATABASE_NAME\n",
    "}"
   ]
  },
  {
   "cell_type": "code",
   "execution_count": 15,
   "metadata": {},
   "outputs": [
    {
     "name": "stdout",
     "output_type": "stream",
     "text": [
      "Tabela 'volksdatatable' criada com sucesso!\n"
     ]
    }
   ],
   "source": [
    "# Comando SQL para criar a tabela\n",
    "create_table_query = \"\"\"\n",
    "CREATE TABLE IF NOT EXISTS volksdatatable (\n",
    "    id SERIAL PRIMARY KEY,\n",
    "    carname VARCHAR(255),\n",
    "    car_date_release INTEGER\n",
    ");\n",
    "\"\"\"\n",
    "\n",
    "# Conecte-se ao banco de dados e execute o comando SQL para criar a tabela\n",
    "try:\n",
    "    conn = psycopg2.connect(**db_params)\n",
    "    cursor = conn.cursor()\n",
    "\n",
    "    # Executar o comando SQL\n",
    "    cursor.execute(create_table_query)\n",
    "    conn.commit()\n",
    "    print(\"Tabela 'volksdatatable' criada com sucesso!\")\n",
    "\n",
    "except (Exception, psycopg2.Error) as error:\n",
    "    print(\"Erro ao conectar ao PostgreSQL ou criar a tabela:\", error)\n",
    "\n",
    "finally:\n",
    "    # Encerre a conexão com o banco de dados\n",
    "    if conn:\n",
    "        cursor.close()\n",
    "        conn.close()"
   ]
  },
  {
   "cell_type": "code",
   "execution_count": 16,
   "metadata": {},
   "outputs": [
    {
     "name": "stdout",
     "output_type": "stream",
     "text": [
      "Carro 'Volkswagen Gol' já existe. Não foi inserido novamente.\n",
      "Carro 'Volkswagen Polo' já existe. Não foi inserido novamente.\n",
      "Carro 'Volkswagen Golf' já existe. Não foi inserido novamente.\n",
      "Carro 'Volkswagen Jetta' já existe. Não foi inserido novamente.\n",
      "Carro 'Volkswagen Passat' já existe. Não foi inserido novamente.\n",
      "Carro 'Volkswagen Beetle' inserido com sucesso.\n",
      "Carro 'Volkswagen Tiguan' inserido com sucesso.\n",
      "Carro 'Volkswagen Touareg' inserido com sucesso.\n",
      "Carro 'Volkswagen Amarok' inserido com sucesso.\n",
      "Carro 'Volkswagen Scirocco' inserido com sucesso.\n",
      "Carro 'Volkswagen Up!' inserido com sucesso.\n",
      "Carro 'Volkswagen Arteon' inserido com sucesso.\n",
      "Carro 'Volkswagen T-Roc' inserido com sucesso.\n",
      "Carro 'Volkswagen ID.3' inserido com sucesso.\n",
      "Carro 'Volkswagen ID.4' inserido com sucesso.\n",
      "Carro 'Volkswagen Karmann-Ghia' inserido com sucesso.\n",
      "Carro 'Volkswagen Type 2 (Kombi)' inserido com sucesso.\n",
      "Carro 'Volkswagen CC' inserido com sucesso.\n",
      "Carro 'Volkswagen Phaeton' inserido com sucesso.\n",
      "Carro 'Volkswagen Fox' inserido com sucesso.\n",
      "Carro 'Volkswagen Type 3' inserido com sucesso.\n",
      "Carro 'Volkswagen Santana' inserido com sucesso.\n",
      "Carro 'Volkswagen Corrado' inserido com sucesso.\n",
      "Carro 'Volkswagen Eos' inserido com sucesso.\n",
      "Carro 'Volkswagen Atlas' inserido com sucesso.\n",
      "Carro 'Volkswagen Type 4' inserido com sucesso.\n",
      "Carro 'Volkswagen Lupo' inserido com sucesso.\n",
      "Carro 'Volkswagen Brasília' inserido com sucesso.\n",
      "Carro 'Volkswagen SP2' inserido com sucesso.\n",
      "Carro 'Volkswagen Derby' inserido com sucesso.\n",
      "Carro 'Volkswagen Caddy' inserido com sucesso.\n",
      "Carro 'Volkswagen Quantum' inserido com sucesso.\n",
      "Carro 'Volkswagen L80' inserido com sucesso.\n",
      "Carro 'Volkswagen XL1' inserido com sucesso.\n",
      "Carro 'Volkswagen Bora' inserido com sucesso.\n",
      "Carro 'Volkswagen Routan' inserido com sucesso.\n",
      "Carro 'Volkswagen CrossFox' inserido com sucesso.\n",
      "Carro 'Volkswagen Polo Sedan' inserido com sucesso.\n",
      "Carro 'Volkswagen 1600 TL' inserido com sucesso.\n",
      "Carro 'Volkswagen 411' inserido com sucesso.\n",
      "Carro 'Volkswagen I.D. Buzz' inserido com sucesso.\n",
      "Dados dos carros inseridos com sucesso!\n"
     ]
    }
   ],
   "source": [
    "# Nome do arquivo CSV\n",
    "csv_filename = 'carros_volkswagen.csv'\n",
    "\n",
    "# Conecte-se ao banco de dados\n",
    "try:\n",
    "    conn = psycopg2.connect(**db_params)\n",
    "    cursor = conn.cursor()\n",
    "\n",
    "    # Abra o arquivo CSV e insira os dados na tabela\n",
    "    with open(csv_filename, 'r') as csv_file:\n",
    "        csv_reader = csv.DictReader(csv_file)\n",
    "        for row in csv_reader:\n",
    "            carname = row['carname']\n",
    "            car_date_release = int(row['car_date_release'])\n",
    "\n",
    "            # Verifique se o carro já existe no banco de dados\n",
    "            check_query = \"SELECT * FROM volksdatatable WHERE carname = %s;\"\n",
    "            cursor.execute(check_query, (carname,))\n",
    "            existing_car = cursor.fetchone()\n",
    "\n",
    "            if not existing_car:\n",
    "                # Inserir os dados do carro na tabela\n",
    "                insert_query = \"INSERT INTO volksdatatable (carname, car_date_release) VALUES (%s, %s);\"\n",
    "                cursor.execute(insert_query, (carname, car_date_release))\n",
    "                print(f\"Carro '{carname}' inserido com sucesso.\")\n",
    "            else:\n",
    "                print(f\"Carro '{carname}' já existe. Não foi inserido novamente.\")\n",
    "\n",
    "    conn.commit()\n",
    "    print(\"Dados dos carros inseridos com sucesso!\")\n",
    "\n",
    "except (Exception, psycopg2.Error) as error:\n",
    "    print(\"Erro ao conectar ao PostgreSQL ou inserir os dados:\", error)\n",
    "\n",
    "finally:\n",
    "    # Encerre a conexão com o banco de dados\n",
    "    if conn:\n",
    "        cursor.close()\n",
    "        conn.close()"
   ]
  }
 ],
 "metadata": {
  "kernelspec": {
   "display_name": "Python 3",
   "language": "python",
   "name": "python3"
  },
  "language_info": {
   "codemirror_mode": {
    "name": "ipython",
    "version": 3
   },
   "file_extension": ".py",
   "mimetype": "text/x-python",
   "name": "python",
   "nbconvert_exporter": "python",
   "pygments_lexer": "ipython3",
   "version": "3.10.6"
  }
 },
 "nbformat": 4,
 "nbformat_minor": 2
}
